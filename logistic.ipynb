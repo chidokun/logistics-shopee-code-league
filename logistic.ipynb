{
 "cells": [
  {
   "cell_type": "code",
   "execution_count": 1,
   "metadata": {},
   "outputs": [
    {
     "output_type": "display_data",
     "data": {
      "text/plain": "<IPython.core.display.HTML object>",
      "text/html": "<style>\ndiv.output_area pre {\n    white-space: pre;\n    word-wrap: normal;\n}\n.container { \n    width:100% !important; \n}\n</style>\n"
     },
     "metadata": {}
    }
   ],
   "source": [
    "%%html\n",
    "<style>\n",
    "div.output_area pre {\n",
    "    white-space: pre;\n",
    "    word-wrap: normal;\n",
    "}\n",
    ".container { \n",
    "    width:100% !important; \n",
    "}\n",
    "</style>"
   ]
  },
  {
   "cell_type": "code",
   "execution_count": 2,
   "metadata": {},
   "outputs": [],
   "source": [
    "import datetime\n",
    "import numpy as np\n",
    "import glob, json\n",
    "from numpy import nan\n",
    "import pandas as pd"
   ]
  },
  {
   "cell_type": "code",
   "execution_count": 3,
   "metadata": {},
   "outputs": [],
   "source": [
    "Matrix = []\n",
    "Matrix.append([3,5,7,7])\n",
    "Matrix.append([5,5,7,7])\n",
    "Matrix.append([7,7,7,7])\n",
    "Matrix.append([7,7,7,7])"
   ]
  },
  {
   "cell_type": "code",
   "execution_count": 4,
   "metadata": {},
   "outputs": [],
   "source": [
    "list_index = {0:'Metro Manila',1:'Luzon',2:'Visayas',3:'Mindanao'}\n",
    "list_index_city = {'Metro Manila':0,'Luzon':1,'Visayas':2,'Mindanao':3}"
   ]
  },
  {
   "cell_type": "code",
   "execution_count": 34,
   "metadata": {},
   "outputs": [],
   "source": [
    "def get_city(address):\n",
    "    index = []\n",
    "    for key in list_index:\n",
    "        index.append(address.lower().rfind(list_index[key].lower()))\n",
    "    maxIndex = -1\n",
    "    result = \"\"\n",
    "    for i in range(0,4):\n",
    "        if index[i] > maxIndex:\n",
    "            maxIndex = index[i]\n",
    "            result = list_index[i]\n",
    "    return result\n",
    "#udf_get_city = udf(get_city)"
   ]
  },
  {
   "cell_type": "code",
   "execution_count": 33,
   "metadata": {},
   "outputs": [],
   "source": [
    "def distance(city_seller_address,buyeraddress):\n",
    "    return Matrix[list_index_city[city_seller_address]][list_index_city[buyeraddress]]\n",
    "#udf_estimate = udf(distance,IntegerType())"
   ]
  },
  {
   "cell_type": "code",
   "execution_count": 24,
   "metadata": {},
   "outputs": [],
   "source": [
    "list_dates = {}\n",
    "i = 0\n",
    "startDate = datetime.date(2020, 3, 1)\n",
    "while startDate.month < 5:\n",
    "    list_dates[startDate.strftime('%Y-%m-%d')]=i+1\n",
    "    startDate += datetime.timedelta(days=1)\n",
    "    i+=1"
   ]
  },
  {
   "cell_type": "code",
   "execution_count": 25,
   "metadata": {},
   "outputs": [],
   "source": [
    "list_offday = ['2020-03-01','2020-03-08','2020-03-15','2020-03-22','2020-03-25','2020-03-29','2020-03-30','2020-03-31','2020-04-05','2020-04-12','2020-04-19','2020-04-26']"
   ]
  },
  {
   "cell_type": "code",
   "execution_count": 26,
   "metadata": {},
   "outputs": [],
   "source": [
    "def diffTime(startDate,endDate):\n",
    "    begin = list_dates[startDate]\n",
    "    end = list_dates[endDate]\n",
    "    offDay = 0\n",
    "    for offday in list_offday:\n",
    "        if list_dates[offday] > begin and list_dates[offday] <= end:\n",
    "            offDay +=1\n",
    "    return (end -begin - offDay)"
   ]
  },
  {
   "cell_type": "code",
   "execution_count": 27,
   "metadata": {},
   "outputs": [],
   "source": [
    "def isLate(day_pick,day_1st_deliver_attempt_timestamp,day_2nd_deliver_attempt_timestamp,SLA):\n",
    "    if diffTime(day_pick,day_1st_deliver_attempt_timestamp) > SLA:\n",
    "        return 1\n",
    "    if diffTime(day_pick,day_1st_deliver_attempt_timestamp) <= SLA and day_2nd_deliver_attempt_timestamp !='NaT' and diffTime(day_1st_deliver_attempt_timestamp,day_2nd_deliver_attempt_timestamp) >3:\n",
    "        return 1\n",
    "    return 0"
   ]
  },
  {
   "cell_type": "code",
   "execution_count": null,
   "metadata": {},
   "outputs": [],
   "source": []
  },
  {
   "cell_type": "code",
   "execution_count": 29,
   "metadata": {},
   "outputs": [],
   "source": [
    "df_listorder = pd.read_csv('./data/delivery_orders_march.csv')"
   ]
  },
  {
   "cell_type": "code",
   "execution_count": 30,
   "metadata": {},
   "outputs": [
    {
     "output_type": "execute_result",
     "data": {
      "text/plain": "Index(['orderid', 'pick', '1st_deliver_attempt', '2nd_deliver_attempt',\n       'buyeraddress', 'selleraddress'],\n      dtype='object')"
     },
     "metadata": {},
     "execution_count": 30
    }
   ],
   "source": [
    "df_listorder.columns"
   ]
  },
  {
   "cell_type": "code",
   "execution_count": 31,
   "metadata": {},
   "outputs": [],
   "source": [
    "df_listorder['city_buyer_address']= df_listorder['buyeraddress'].apply(lambda x: get_city(x))"
   ]
  },
  {
   "cell_type": "code",
   "execution_count": 32,
   "metadata": {},
   "outputs": [],
   "source": [
    "df_listorder['city_seller_address']= df_listorder['selleraddress'].apply(lambda x: get_city(x))"
   ]
  },
  {
   "cell_type": "code",
   "execution_count": 35,
   "metadata": {},
   "outputs": [],
   "source": [
    "df_listorder['SLA'] = df_listorder.apply(lambda x: distance(x['city_seller_address'], x['city_buyer_address']), axis=1)"
   ]
  },
  {
   "cell_type": "code",
   "execution_count": 36,
   "metadata": {},
   "outputs": [],
   "source": [
    "df_listorder['pick_timestamp8']= df_listorder['pick'].apply(lambda x: x+ 3600 if x is not None else None)"
   ]
  },
  {
   "cell_type": "code",
   "execution_count": 37,
   "metadata": {},
   "outputs": [],
   "source": [
    "df_listorder['day_pick']= pd.to_datetime(df_listorder['pick_timestamp8'], unit='s').apply(lambda x: str(x)[:10] if x is not None else None)"
   ]
  },
  {
   "cell_type": "code",
   "execution_count": 38,
   "metadata": {},
   "outputs": [],
   "source": [
    "df_listorder['1st_deliver_attempt_timestamp8']= df_listorder['1st_deliver_attempt'].apply(lambda x: x+ 3600 if x is not None else None)"
   ]
  },
  {
   "cell_type": "code",
   "execution_count": 39,
   "metadata": {},
   "outputs": [],
   "source": [
    "df_listorder['day_1st_deliver_attempt']= pd.to_datetime(df_listorder['1st_deliver_attempt_timestamp8'], unit='s').apply(lambda x: str(x)[:10]if x is not None else None)"
   ]
  },
  {
   "cell_type": "code",
   "execution_count": 40,
   "metadata": {},
   "outputs": [],
   "source": [
    "df_listorder['2nd_deliver_attempt_timestamp8']= df_listorder['2nd_deliver_attempt'].apply(lambda x: x+ 3600 if x is not None else None)"
   ]
  },
  {
   "cell_type": "code",
   "execution_count": 41,
   "metadata": {},
   "outputs": [],
   "source": [
    "df_listorder['day_2nd_deliver_attempt']= pd.to_datetime(df_listorder['2nd_deliver_attempt_timestamp8'], unit='s').apply(lambda x: str(x)[:10]if x is not None else None)"
   ]
  },
  {
   "cell_type": "code",
   "execution_count": 42,
   "metadata": {},
   "outputs": [],
   "source": [
    "df_listorder['is_late']= df_listorder.apply(lambda x: isLate(x['day_pick'], x['day_1st_deliver_attempt'],x['day_2nd_deliver_attempt'],x['SLA']), axis=1)"
   ]
  },
  {
   "cell_type": "code",
   "execution_count": 44,
   "metadata": {},
   "outputs": [],
   "source": [
    "df_listorder[['orderid','is_late']].to_csv('./data/resultFinal.csv',index=False)"
   ]
  },
  {
   "cell_type": "code",
   "execution_count": null,
   "metadata": {},
   "outputs": [],
   "source": []
  }
 ],
 "metadata": {
  "kernelspec": {
   "display_name": "Python 3",
   "language": "python",
   "name": "python3"
  },
  "language_info": {
   "codemirror_mode": {
    "name": "ipython",
    "version": 3
   },
   "file_extension": ".py",
   "mimetype": "text/x-python",
   "name": "python",
   "nbconvert_exporter": "python",
   "pygments_lexer": "ipython3",
   "version": "3.7.7-final"
  }
 },
 "nbformat": 4,
 "nbformat_minor": 2
}