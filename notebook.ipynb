{
 "cells": [
  {
   "cell_type": "markdown",
   "metadata": {},
   "source": [
    "# Logistic (Shopee Code League 2020)"
   ]
  },
  {
   "cell_type": "markdown",
   "metadata": {},
   "source": [
    "This scores 1.0 with late submission."
   ]
  },
  {
   "cell_type": "code",
   "execution_count": 1,
   "metadata": {},
   "outputs": [],
   "source": [
    "import numpy as np \n",
    "import pandas as pd \n",
    "import matplotlib.pyplot as plt\n",
    "from datetime import datetime, timezone, timedelta\n",
    "%matplotlib inline"
   ]
  },
  {
   "cell_type": "markdown",
   "metadata": {},
   "source": [
    "# Data Exploration"
   ]
  },
  {
   "cell_type": "code",
   "execution_count": 2,
   "metadata": {},
   "outputs": [],
   "source": [
    "data_path = \"./data/delivery_orders_march.csv\"\n",
    "result_path = \"./data/result.csv\""
   ]
  },
  {
   "cell_type": "code",
   "execution_count": 3,
   "metadata": {
    "tags": []
   },
   "outputs": [
    {
     "name": "stdout",
     "output_type": "stream",
     "text": [
      "CPU times: user 8.47 s, sys: 868 ms, total: 9.34 s\n",
      "Wall time: 11.9 s\n"
     ]
    }
   ],
   "source": [
    "%%time\n",
    "full_data = pd.read_csv(data_path)"
   ]
  },
  {
   "cell_type": "code",
   "execution_count": 4,
   "metadata": {},
   "outputs": [
    {
     "data": {
      "text/plain": [
       "orderid                  int64\n",
       "pick                     int64\n",
       "1st_deliver_attempt    float64\n",
       "2nd_deliver_attempt    float64\n",
       "buyeraddress            object\n",
       "selleraddress           object\n",
       "dtype: object"
      ]
     },
     "execution_count": 4,
     "metadata": {},
     "output_type": "execute_result"
    }
   ],
   "source": [
    "full_data.dtypes"
   ]
  },
  {
   "cell_type": "code",
   "execution_count": 5,
   "metadata": {},
   "outputs": [
    {
     "data": {
      "text/html": [
       "<div>\n",
       "<style scoped>\n",
       "    .dataframe tbody tr th:only-of-type {\n",
       "        vertical-align: middle;\n",
       "    }\n",
       "\n",
       "    .dataframe tbody tr th {\n",
       "        vertical-align: top;\n",
       "    }\n",
       "\n",
       "    .dataframe thead th {\n",
       "        text-align: right;\n",
       "    }\n",
       "</style>\n",
       "<table border=\"1\" class=\"dataframe\">\n",
       "  <thead>\n",
       "    <tr style=\"text-align: right;\">\n",
       "      <th></th>\n",
       "      <th>orderid</th>\n",
       "      <th>pick</th>\n",
       "      <th>1st_deliver_attempt</th>\n",
       "      <th>2nd_deliver_attempt</th>\n",
       "      <th>buyeraddress</th>\n",
       "      <th>selleraddress</th>\n",
       "    </tr>\n",
       "  </thead>\n",
       "  <tbody>\n",
       "    <tr>\n",
       "      <th>0</th>\n",
       "      <td>2215676524</td>\n",
       "      <td>1583138397</td>\n",
       "      <td>1.583385e+09</td>\n",
       "      <td>NaN</td>\n",
       "      <td>Baging ldl BUENAVISTA,PATAG.CAGAYAN Buagsong,c...</td>\n",
       "      <td>Pantranco vill. 417 Warehouse# katipunan 532 (...</td>\n",
       "    </tr>\n",
       "    <tr>\n",
       "      <th>1</th>\n",
       "      <td>2219624609</td>\n",
       "      <td>1583309968</td>\n",
       "      <td>1.583463e+09</td>\n",
       "      <td>1.583799e+09</td>\n",
       "      <td>coloma's quzom CASANAS Site1 Masiyan 533A Stol...</td>\n",
       "      <td>BLDG 210A Moras C42B 2B16,168 church) Complex ...</td>\n",
       "    </tr>\n",
       "    <tr>\n",
       "      <th>2</th>\n",
       "      <td>2220979489</td>\n",
       "      <td>1583306434</td>\n",
       "      <td>1.583460e+09</td>\n",
       "      <td>NaN</td>\n",
       "      <td>21-O LumangDaan,Capitangan,Abucay,Bataan .Bign...</td>\n",
       "      <td>#66 150-C, DRIVE, Milagros Joe socorro Metro M...</td>\n",
       "    </tr>\n",
       "    <tr>\n",
       "      <th>3</th>\n",
       "      <td>2221066352</td>\n",
       "      <td>1583419016</td>\n",
       "      <td>1.583556e+09</td>\n",
       "      <td>NaN</td>\n",
       "      <td>616Espiritu MARTINVILLE,MANUYO #5paraiso kengi...</td>\n",
       "      <td>999maII 201,26 Villaruel Barretto gen.t number...</td>\n",
       "    </tr>\n",
       "    <tr>\n",
       "      <th>4</th>\n",
       "      <td>2222478803</td>\n",
       "      <td>1583318305</td>\n",
       "      <td>1.583480e+09</td>\n",
       "      <td>NaN</td>\n",
       "      <td>L042 Summerbreezee1 L2(Balanay analyn Lot760 C...</td>\n",
       "      <td>G66MANILA Hiyas Fitness MAYSILO magdiwang Lt.4...</td>\n",
       "    </tr>\n",
       "    <tr>\n",
       "      <th>...</th>\n",
       "      <td>...</td>\n",
       "      <td>...</td>\n",
       "      <td>...</td>\n",
       "      <td>...</td>\n",
       "      <td>...</td>\n",
       "      <td>...</td>\n",
       "    </tr>\n",
       "    <tr>\n",
       "      <th>3176308</th>\n",
       "      <td>31504087640510</td>\n",
       "      <td>1585821728</td>\n",
       "      <td>1.585978e+09</td>\n",
       "      <td>NaN</td>\n",
       "      <td>mayapis. edeliza JC274 5542 brgy.Dita, Metro M...</td>\n",
       "      <td>Intimate St) compound. Sekiat 2B8 98-B Mel far...</td>\n",
       "    </tr>\n",
       "    <tr>\n",
       "      <th>3176309</th>\n",
       "      <td>31504147352227</td>\n",
       "      <td>1585895011</td>\n",
       "      <td>1.586179e+09</td>\n",
       "      <td>1.586232e+09</td>\n",
       "      <td>Superdome PORKY K307 Libertad, PCGCC sub.bagui...</td>\n",
       "      <td>13th 3616 Pilipinas, :1v26 1f-5 (Village) bl10...</td>\n",
       "    </tr>\n",
       "    <tr>\n",
       "      <th>3176310</th>\n",
       "      <td>31504462290482</td>\n",
       "      <td>1585826951</td>\n",
       "      <td>1.585965e+09</td>\n",
       "      <td>NaN</td>\n",
       "      <td>Galay's 1republic 333-18 Diliman 74d Malbay fe...</td>\n",
       "      <td>Lane, 379B 1739A Ivc AFPFC Cainta, Waterpark, ...</td>\n",
       "    </tr>\n",
       "    <tr>\n",
       "      <th>3176311</th>\n",
       "      <td>31504851495943</td>\n",
       "      <td>1585891194</td>\n",
       "      <td>1.586230e+09</td>\n",
       "      <td>NaN</td>\n",
       "      <td>#4560, 80south biloca vi!!age KM21, MANRESA, ,...</td>\n",
       "      <td>lrt-2 Consolacion 224-A Paradise 6D 36st champ...</td>\n",
       "    </tr>\n",
       "    <tr>\n",
       "      <th>3176312</th>\n",
       "      <td>31505199116340</td>\n",
       "      <td>1585823923</td>\n",
       "      <td>1.586153e+09</td>\n",
       "      <td>1.586231e+09</td>\n",
       "      <td>b4l13 TOLDA 792-A-5-A east...near CARRASCO Ang...</td>\n",
       "      <td>(Jeepney Kaligayan VANVAN Salud ASA Lauan A-55...</td>\n",
       "    </tr>\n",
       "  </tbody>\n",
       "</table>\n",
       "<p>3176313 rows × 6 columns</p>\n",
       "</div>"
      ],
      "text/plain": [
       "                orderid        pick  1st_deliver_attempt  2nd_deliver_attempt  \\\n",
       "0            2215676524  1583138397         1.583385e+09                  NaN   \n",
       "1            2219624609  1583309968         1.583463e+09         1.583799e+09   \n",
       "2            2220979489  1583306434         1.583460e+09                  NaN   \n",
       "3            2221066352  1583419016         1.583556e+09                  NaN   \n",
       "4            2222478803  1583318305         1.583480e+09                  NaN   \n",
       "...                 ...         ...                  ...                  ...   \n",
       "3176308  31504087640510  1585821728         1.585978e+09                  NaN   \n",
       "3176309  31504147352227  1585895011         1.586179e+09         1.586232e+09   \n",
       "3176310  31504462290482  1585826951         1.585965e+09                  NaN   \n",
       "3176311  31504851495943  1585891194         1.586230e+09                  NaN   \n",
       "3176312  31505199116340  1585823923         1.586153e+09         1.586231e+09   \n",
       "\n",
       "                                              buyeraddress  \\\n",
       "0        Baging ldl BUENAVISTA,PATAG.CAGAYAN Buagsong,c...   \n",
       "1        coloma's quzom CASANAS Site1 Masiyan 533A Stol...   \n",
       "2        21-O LumangDaan,Capitangan,Abucay,Bataan .Bign...   \n",
       "3        616Espiritu MARTINVILLE,MANUYO #5paraiso kengi...   \n",
       "4        L042 Summerbreezee1 L2(Balanay analyn Lot760 C...   \n",
       "...                                                    ...   \n",
       "3176308  mayapis. edeliza JC274 5542 brgy.Dita, Metro M...   \n",
       "3176309  Superdome PORKY K307 Libertad, PCGCC sub.bagui...   \n",
       "3176310  Galay's 1republic 333-18 Diliman 74d Malbay fe...   \n",
       "3176311  #4560, 80south biloca vi!!age KM21, MANRESA, ,...   \n",
       "3176312  b4l13 TOLDA 792-A-5-A east...near CARRASCO Ang...   \n",
       "\n",
       "                                             selleraddress  \n",
       "0        Pantranco vill. 417 Warehouse# katipunan 532 (...  \n",
       "1        BLDG 210A Moras C42B 2B16,168 church) Complex ...  \n",
       "2        #66 150-C, DRIVE, Milagros Joe socorro Metro M...  \n",
       "3        999maII 201,26 Villaruel Barretto gen.t number...  \n",
       "4        G66MANILA Hiyas Fitness MAYSILO magdiwang Lt.4...  \n",
       "...                                                    ...  \n",
       "3176308  Intimate St) compound. Sekiat 2B8 98-B Mel far...  \n",
       "3176309  13th 3616 Pilipinas, :1v26 1f-5 (Village) bl10...  \n",
       "3176310  Lane, 379B 1739A Ivc AFPFC Cainta, Waterpark, ...  \n",
       "3176311  lrt-2 Consolacion 224-A Paradise 6D 36st champ...  \n",
       "3176312  (Jeepney Kaligayan VANVAN Salud ASA Lauan A-55...  \n",
       "\n",
       "[3176313 rows x 6 columns]"
      ]
     },
     "execution_count": 5,
     "metadata": {},
     "output_type": "execute_result"
    }
   ],
   "source": [
    "full_data"
   ]
  },
  {
   "cell_type": "code",
   "execution_count": 6,
   "metadata": {},
   "outputs": [
    {
     "data": {
      "text/plain": [
       "(3176313, 6)"
      ]
     },
     "execution_count": 6,
     "metadata": {},
     "output_type": "execute_result"
    }
   ],
   "source": [
    "full_data.shape"
   ]
  },
  {
   "cell_type": "code",
   "execution_count": 7,
   "metadata": {},
   "outputs": [
    {
     "data": {
      "text/plain": [
       "3176313"
      ]
     },
     "execution_count": 7,
     "metadata": {},
     "output_type": "execute_result"
    }
   ],
   "source": [
    "full_data.orderid.nunique()"
   ]
  },
  {
   "cell_type": "markdown",
   "metadata": {},
   "source": [
    "# Implement Solution"
   ]
  },
  {
   "cell_type": "markdown",
   "metadata": {},
   "source": [
    "Get apart for testing or get all to processing"
   ]
  },
  {
   "cell_type": "code",
   "execution_count": 8,
   "metadata": {},
   "outputs": [],
   "source": [
    "# For final solution, we will assign `d` to `full_data`\n",
    "d = full_data"
   ]
  },
  {
   "cell_type": "code",
   "execution_count": 9,
   "metadata": {},
   "outputs": [
    {
     "data": {
      "text/plain": [
       "(3176313, 6)"
      ]
     },
     "execution_count": 9,
     "metadata": {},
     "output_type": "execute_result"
    }
   ],
   "source": [
    "d.shape"
   ]
  },
  {
   "cell_type": "markdown",
   "metadata": {},
   "source": [
    "Set environment"
   ]
  },
  {
   "cell_type": "code",
   "execution_count": 10,
   "metadata": {},
   "outputs": [],
   "source": [
    "places = [ \"metro manila\", \"luzon\", \"visayas\", \"mindanao\" ]\n",
    "\n",
    "# mapping for city index\n",
    "places_map = { place:i for i, place in enumerate(places)}\n",
    "\n",
    "# sla_map[seller][buyer]\n",
    "sla_map = [[3, 5, 7, 7],\n",
    "           [5, 5, 7, 7],\n",
    "           [7, 7, 7, 7],\n",
    "           [7, 7, 7, 7]]"
   ]
  },
  {
   "cell_type": "code",
   "execution_count": 11,
   "metadata": {},
   "outputs": [],
   "source": [
    "holidays = [ \"2020-03-08\", \"2020-03-25\", \"2020-03-30\", \"2020-03-31\" ]"
   ]
  },
  {
   "cell_type": "code",
   "execution_count": 12,
   "metadata": {},
   "outputs": [],
   "source": [
    "# convert address to city index\n",
    "def get_place_index(address): \n",
    "    return np.argmax([address.lower().rfind(i) for i in places])"
   ]
  },
  {
   "cell_type": "markdown",
   "metadata": {},
   "source": [
    "Convert `buyeraddress` and `selleraddress` to city index"
   ]
  },
  {
   "cell_type": "code",
   "execution_count": 13,
   "metadata": {
    "tags": []
   },
   "outputs": [
    {
     "name": "stdout",
     "output_type": "stream",
     "text": [
      "CPU times: user 22.7 s, sys: 482 ms, total: 23.2 s\n",
      "Wall time: 25.3 s\n"
     ]
    }
   ],
   "source": [
    "%%time\n",
    "d[\"buyeraddress\"] = d[\"buyeraddress\"].apply(lambda x: get_place_index(x))"
   ]
  },
  {
   "cell_type": "code",
   "execution_count": 14,
   "metadata": {
    "tags": []
   },
   "outputs": [
    {
     "name": "stdout",
     "output_type": "stream",
     "text": [
      "CPU times: user 23.7 s, sys: 465 ms, total: 24.1 s\n",
      "Wall time: 28.4 s\n"
     ]
    }
   ],
   "source": [
    "%%time\n",
    "d[\"selleraddress\"] = d[\"selleraddress\"].apply(lambda x: get_place_index(x))"
   ]
  },
  {
   "cell_type": "markdown",
   "metadata": {},
   "source": [
    "Fix missing value"
   ]
  },
  {
   "cell_type": "code",
   "execution_count": 15,
   "metadata": {},
   "outputs": [],
   "source": [
    "d['1st_deliver_attempt'] = d['1st_deliver_attempt'].astype(np.int64)\n",
    "d['2nd_deliver_attempt'] = d['2nd_deliver_attempt'].fillna(0).astype(np.int64)"
   ]
  },
  {
   "cell_type": "markdown",
   "metadata": {},
   "source": [
    "Count SLA"
   ]
  },
  {
   "cell_type": "code",
   "execution_count": 16,
   "metadata": {
    "tags": []
   },
   "outputs": [
    {
     "name": "stdout",
     "output_type": "stream",
     "text": [
      "CPU times: user 1min 14s, sys: 920 ms, total: 1min 15s\n",
      "Wall time: 1min 20s\n"
     ]
    }
   ],
   "source": [
    "%%time\n",
    "d[\"sla\"] = d.apply(lambda x: sla_map[x[\"selleraddress\"]][x[\"buyeraddress\"]], axis=1)"
   ]
  },
  {
   "cell_type": "markdown",
   "metadata": {},
   "source": [
    "Convert to timestamp GMT+8"
   ]
  },
  {
   "cell_type": "code",
   "execution_count": 17,
   "metadata": {},
   "outputs": [],
   "source": [
    "dt_columns = ['pick', '1st_deliver_attempt', '2nd_deliver_attempt']\n",
    "for dt_col in dt_columns:\n",
    "    d[dt_col] = (d[dt_col] + 3600*8) // (3600*24)"
   ]
  },
  {
   "cell_type": "code",
   "execution_count": 18,
   "metadata": {},
   "outputs": [
    {
     "data": {
      "text/html": [
       "<div>\n",
       "<style scoped>\n",
       "    .dataframe tbody tr th:only-of-type {\n",
       "        vertical-align: middle;\n",
       "    }\n",
       "\n",
       "    .dataframe tbody tr th {\n",
       "        vertical-align: top;\n",
       "    }\n",
       "\n",
       "    .dataframe thead th {\n",
       "        text-align: right;\n",
       "    }\n",
       "</style>\n",
       "<table border=\"1\" class=\"dataframe\">\n",
       "  <thead>\n",
       "    <tr style=\"text-align: right;\">\n",
       "      <th></th>\n",
       "      <th>orderid</th>\n",
       "      <th>pick</th>\n",
       "      <th>1st_deliver_attempt</th>\n",
       "      <th>2nd_deliver_attempt</th>\n",
       "      <th>buyeraddress</th>\n",
       "      <th>selleraddress</th>\n",
       "      <th>sla</th>\n",
       "    </tr>\n",
       "  </thead>\n",
       "  <tbody>\n",
       "    <tr>\n",
       "      <th>0</th>\n",
       "      <td>2215676524</td>\n",
       "      <td>18323</td>\n",
       "      <td>18326</td>\n",
       "      <td>0</td>\n",
       "      <td>0</td>\n",
       "      <td>0</td>\n",
       "      <td>3</td>\n",
       "    </tr>\n",
       "    <tr>\n",
       "      <th>1</th>\n",
       "      <td>2219624609</td>\n",
       "      <td>18325</td>\n",
       "      <td>18327</td>\n",
       "      <td>18331</td>\n",
       "      <td>0</td>\n",
       "      <td>0</td>\n",
       "      <td>3</td>\n",
       "    </tr>\n",
       "    <tr>\n",
       "      <th>2</th>\n",
       "      <td>2220979489</td>\n",
       "      <td>18325</td>\n",
       "      <td>18327</td>\n",
       "      <td>0</td>\n",
       "      <td>0</td>\n",
       "      <td>0</td>\n",
       "      <td>3</td>\n",
       "    </tr>\n",
       "    <tr>\n",
       "      <th>3</th>\n",
       "      <td>2221066352</td>\n",
       "      <td>18326</td>\n",
       "      <td>18328</td>\n",
       "      <td>0</td>\n",
       "      <td>0</td>\n",
       "      <td>0</td>\n",
       "      <td>3</td>\n",
       "    </tr>\n",
       "    <tr>\n",
       "      <th>4</th>\n",
       "      <td>2222478803</td>\n",
       "      <td>18325</td>\n",
       "      <td>18327</td>\n",
       "      <td>0</td>\n",
       "      <td>1</td>\n",
       "      <td>0</td>\n",
       "      <td>5</td>\n",
       "    </tr>\n",
       "    <tr>\n",
       "      <th>...</th>\n",
       "      <td>...</td>\n",
       "      <td>...</td>\n",
       "      <td>...</td>\n",
       "      <td>...</td>\n",
       "      <td>...</td>\n",
       "      <td>...</td>\n",
       "      <td>...</td>\n",
       "    </tr>\n",
       "    <tr>\n",
       "      <th>3176308</th>\n",
       "      <td>31504087640510</td>\n",
       "      <td>18354</td>\n",
       "      <td>18356</td>\n",
       "      <td>0</td>\n",
       "      <td>0</td>\n",
       "      <td>0</td>\n",
       "      <td>3</td>\n",
       "    </tr>\n",
       "    <tr>\n",
       "      <th>3176309</th>\n",
       "      <td>31504147352227</td>\n",
       "      <td>18355</td>\n",
       "      <td>18358</td>\n",
       "      <td>18359</td>\n",
       "      <td>0</td>\n",
       "      <td>0</td>\n",
       "      <td>3</td>\n",
       "    </tr>\n",
       "    <tr>\n",
       "      <th>3176310</th>\n",
       "      <td>31504462290482</td>\n",
       "      <td>18354</td>\n",
       "      <td>18356</td>\n",
       "      <td>0</td>\n",
       "      <td>0</td>\n",
       "      <td>0</td>\n",
       "      <td>3</td>\n",
       "    </tr>\n",
       "    <tr>\n",
       "      <th>3176311</th>\n",
       "      <td>31504851495943</td>\n",
       "      <td>18355</td>\n",
       "      <td>18359</td>\n",
       "      <td>0</td>\n",
       "      <td>1</td>\n",
       "      <td>0</td>\n",
       "      <td>5</td>\n",
       "    </tr>\n",
       "    <tr>\n",
       "      <th>3176312</th>\n",
       "      <td>31505199116340</td>\n",
       "      <td>18354</td>\n",
       "      <td>18358</td>\n",
       "      <td>18359</td>\n",
       "      <td>1</td>\n",
       "      <td>0</td>\n",
       "      <td>5</td>\n",
       "    </tr>\n",
       "  </tbody>\n",
       "</table>\n",
       "<p>3176313 rows × 7 columns</p>\n",
       "</div>"
      ],
      "text/plain": [
       "                orderid   pick  1st_deliver_attempt  2nd_deliver_attempt  \\\n",
       "0            2215676524  18323                18326                    0   \n",
       "1            2219624609  18325                18327                18331   \n",
       "2            2220979489  18325                18327                    0   \n",
       "3            2221066352  18326                18328                    0   \n",
       "4            2222478803  18325                18327                    0   \n",
       "...                 ...    ...                  ...                  ...   \n",
       "3176308  31504087640510  18354                18356                    0   \n",
       "3176309  31504147352227  18355                18358                18359   \n",
       "3176310  31504462290482  18354                18356                    0   \n",
       "3176311  31504851495943  18355                18359                    0   \n",
       "3176312  31505199116340  18354                18358                18359   \n",
       "\n",
       "         buyeraddress  selleraddress  sla  \n",
       "0                   0              0    3  \n",
       "1                   0              0    3  \n",
       "2                   0              0    3  \n",
       "3                   0              0    3  \n",
       "4                   1              0    5  \n",
       "...               ...            ...  ...  \n",
       "3176308             0              0    3  \n",
       "3176309             0              0    3  \n",
       "3176310             0              0    3  \n",
       "3176311             1              0    5  \n",
       "3176312             1              0    5  \n",
       "\n",
       "[3176313 rows x 7 columns]"
      ]
     },
     "execution_count": 18,
     "metadata": {},
     "output_type": "execute_result"
    }
   ],
   "source": [
    "d"
   ]
  },
  {
   "cell_type": "markdown",
   "metadata": {},
   "source": [
    "Calculate number of first delivery date and number of second delivery date"
   ]
  },
  {
   "cell_type": "code",
   "execution_count": 19,
   "metadata": {
    "tags": []
   },
   "outputs": [
    {
     "name": "stdout",
     "output_type": "stream",
     "text": [
      "CPU times: user 164 ms, sys: 25.1 ms, total: 189 ms\n",
      "Wall time: 266 ms\n"
     ]
    }
   ],
   "source": [
    "%%time\n",
    "t1 = d['pick'].values.astype('datetime64[D]')\n",
    "t2 = d['1st_deliver_attempt'].values.astype('datetime64[D]')\n",
    "t3 = d['2nd_deliver_attempt'].values.astype('datetime64[D]')\n",
    "\n",
    "d['num_days1'] = np.busday_count(t1, t2, weekmask=\"1111110\", holidays=holidays)\n",
    "d['num_days2'] = np.busday_count(t2, t3, weekmask=\"1111110\", holidays=holidays)"
   ]
  },
  {
   "cell_type": "markdown",
   "metadata": {},
   "source": [
    "Check if an order is late"
   ]
  },
  {
   "cell_type": "code",
   "execution_count": 20,
   "metadata": {},
   "outputs": [],
   "source": [
    "d['is_late'] = (d['num_days1'] > d['sla']) | (d['num_days2'] > 3)\n",
    "d['is_late'] = d['is_late'].astype(int)"
   ]
  },
  {
   "cell_type": "markdown",
   "metadata": {},
   "source": [
    "Review result"
   ]
  },
  {
   "cell_type": "code",
   "execution_count": 21,
   "metadata": {},
   "outputs": [
    {
     "data": {
      "text/html": [
       "<div>\n",
       "<style scoped>\n",
       "    .dataframe tbody tr th:only-of-type {\n",
       "        vertical-align: middle;\n",
       "    }\n",
       "\n",
       "    .dataframe tbody tr th {\n",
       "        vertical-align: top;\n",
       "    }\n",
       "\n",
       "    .dataframe thead th {\n",
       "        text-align: right;\n",
       "    }\n",
       "</style>\n",
       "<table border=\"1\" class=\"dataframe\">\n",
       "  <thead>\n",
       "    <tr style=\"text-align: right;\">\n",
       "      <th></th>\n",
       "      <th>orderid</th>\n",
       "      <th>pick</th>\n",
       "      <th>1st_deliver_attempt</th>\n",
       "      <th>2nd_deliver_attempt</th>\n",
       "      <th>buyeraddress</th>\n",
       "      <th>selleraddress</th>\n",
       "      <th>sla</th>\n",
       "      <th>num_days1</th>\n",
       "      <th>num_days2</th>\n",
       "      <th>is_late</th>\n",
       "    </tr>\n",
       "  </thead>\n",
       "  <tbody>\n",
       "    <tr>\n",
       "      <th>0</th>\n",
       "      <td>2215676524</td>\n",
       "      <td>18323</td>\n",
       "      <td>18326</td>\n",
       "      <td>0</td>\n",
       "      <td>0</td>\n",
       "      <td>0</td>\n",
       "      <td>3</td>\n",
       "      <td>3</td>\n",
       "      <td>-15708</td>\n",
       "      <td>0</td>\n",
       "    </tr>\n",
       "    <tr>\n",
       "      <th>1</th>\n",
       "      <td>2219624609</td>\n",
       "      <td>18325</td>\n",
       "      <td>18327</td>\n",
       "      <td>18331</td>\n",
       "      <td>0</td>\n",
       "      <td>0</td>\n",
       "      <td>3</td>\n",
       "      <td>2</td>\n",
       "      <td>3</td>\n",
       "      <td>0</td>\n",
       "    </tr>\n",
       "    <tr>\n",
       "      <th>2</th>\n",
       "      <td>2220979489</td>\n",
       "      <td>18325</td>\n",
       "      <td>18327</td>\n",
       "      <td>0</td>\n",
       "      <td>0</td>\n",
       "      <td>0</td>\n",
       "      <td>3</td>\n",
       "      <td>2</td>\n",
       "      <td>-15709</td>\n",
       "      <td>0</td>\n",
       "    </tr>\n",
       "    <tr>\n",
       "      <th>3</th>\n",
       "      <td>2221066352</td>\n",
       "      <td>18326</td>\n",
       "      <td>18328</td>\n",
       "      <td>0</td>\n",
       "      <td>0</td>\n",
       "      <td>0</td>\n",
       "      <td>3</td>\n",
       "      <td>2</td>\n",
       "      <td>-15710</td>\n",
       "      <td>0</td>\n",
       "    </tr>\n",
       "    <tr>\n",
       "      <th>4</th>\n",
       "      <td>2222478803</td>\n",
       "      <td>18325</td>\n",
       "      <td>18327</td>\n",
       "      <td>0</td>\n",
       "      <td>1</td>\n",
       "      <td>0</td>\n",
       "      <td>5</td>\n",
       "      <td>2</td>\n",
       "      <td>-15709</td>\n",
       "      <td>0</td>\n",
       "    </tr>\n",
       "    <tr>\n",
       "      <th>...</th>\n",
       "      <td>...</td>\n",
       "      <td>...</td>\n",
       "      <td>...</td>\n",
       "      <td>...</td>\n",
       "      <td>...</td>\n",
       "      <td>...</td>\n",
       "      <td>...</td>\n",
       "      <td>...</td>\n",
       "      <td>...</td>\n",
       "      <td>...</td>\n",
       "    </tr>\n",
       "    <tr>\n",
       "      <th>3176308</th>\n",
       "      <td>31504087640510</td>\n",
       "      <td>18354</td>\n",
       "      <td>18356</td>\n",
       "      <td>0</td>\n",
       "      <td>0</td>\n",
       "      <td>0</td>\n",
       "      <td>3</td>\n",
       "      <td>2</td>\n",
       "      <td>-15731</td>\n",
       "      <td>0</td>\n",
       "    </tr>\n",
       "    <tr>\n",
       "      <th>3176309</th>\n",
       "      <td>31504147352227</td>\n",
       "      <td>18355</td>\n",
       "      <td>18358</td>\n",
       "      <td>18359</td>\n",
       "      <td>0</td>\n",
       "      <td>0</td>\n",
       "      <td>3</td>\n",
       "      <td>2</td>\n",
       "      <td>1</td>\n",
       "      <td>0</td>\n",
       "    </tr>\n",
       "    <tr>\n",
       "      <th>3176310</th>\n",
       "      <td>31504462290482</td>\n",
       "      <td>18354</td>\n",
       "      <td>18356</td>\n",
       "      <td>0</td>\n",
       "      <td>0</td>\n",
       "      <td>0</td>\n",
       "      <td>3</td>\n",
       "      <td>2</td>\n",
       "      <td>-15731</td>\n",
       "      <td>0</td>\n",
       "    </tr>\n",
       "    <tr>\n",
       "      <th>3176311</th>\n",
       "      <td>31504851495943</td>\n",
       "      <td>18355</td>\n",
       "      <td>18359</td>\n",
       "      <td>0</td>\n",
       "      <td>1</td>\n",
       "      <td>0</td>\n",
       "      <td>5</td>\n",
       "      <td>3</td>\n",
       "      <td>-15733</td>\n",
       "      <td>0</td>\n",
       "    </tr>\n",
       "    <tr>\n",
       "      <th>3176312</th>\n",
       "      <td>31505199116340</td>\n",
       "      <td>18354</td>\n",
       "      <td>18358</td>\n",
       "      <td>18359</td>\n",
       "      <td>1</td>\n",
       "      <td>0</td>\n",
       "      <td>5</td>\n",
       "      <td>3</td>\n",
       "      <td>1</td>\n",
       "      <td>0</td>\n",
       "    </tr>\n",
       "  </tbody>\n",
       "</table>\n",
       "<p>3176313 rows × 10 columns</p>\n",
       "</div>"
      ],
      "text/plain": [
       "                orderid   pick  1st_deliver_attempt  2nd_deliver_attempt  \\\n",
       "0            2215676524  18323                18326                    0   \n",
       "1            2219624609  18325                18327                18331   \n",
       "2            2220979489  18325                18327                    0   \n",
       "3            2221066352  18326                18328                    0   \n",
       "4            2222478803  18325                18327                    0   \n",
       "...                 ...    ...                  ...                  ...   \n",
       "3176308  31504087640510  18354                18356                    0   \n",
       "3176309  31504147352227  18355                18358                18359   \n",
       "3176310  31504462290482  18354                18356                    0   \n",
       "3176311  31504851495943  18355                18359                    0   \n",
       "3176312  31505199116340  18354                18358                18359   \n",
       "\n",
       "         buyeraddress  selleraddress  sla  num_days1  num_days2  is_late  \n",
       "0                   0              0    3          3     -15708        0  \n",
       "1                   0              0    3          2          3        0  \n",
       "2                   0              0    3          2     -15709        0  \n",
       "3                   0              0    3          2     -15710        0  \n",
       "4                   1              0    5          2     -15709        0  \n",
       "...               ...            ...  ...        ...        ...      ...  \n",
       "3176308             0              0    3          2     -15731        0  \n",
       "3176309             0              0    3          2          1        0  \n",
       "3176310             0              0    3          2     -15731        0  \n",
       "3176311             1              0    5          3     -15733        0  \n",
       "3176312             1              0    5          3          1        0  \n",
       "\n",
       "[3176313 rows x 10 columns]"
      ]
     },
     "execution_count": 21,
     "metadata": {},
     "output_type": "execute_result"
    }
   ],
   "source": [
    "d"
   ]
  },
  {
   "cell_type": "code",
   "execution_count": 22,
   "metadata": {},
   "outputs": [
    {
     "data": {
      "text/html": [
       "<div>\n",
       "<style scoped>\n",
       "    .dataframe tbody tr th:only-of-type {\n",
       "        vertical-align: middle;\n",
       "    }\n",
       "\n",
       "    .dataframe tbody tr th {\n",
       "        vertical-align: top;\n",
       "    }\n",
       "\n",
       "    .dataframe thead th {\n",
       "        text-align: right;\n",
       "    }\n",
       "</style>\n",
       "<table border=\"1\" class=\"dataframe\">\n",
       "  <thead>\n",
       "    <tr style=\"text-align: right;\">\n",
       "      <th></th>\n",
       "      <th>orderid</th>\n",
       "      <th>pick</th>\n",
       "      <th>1st_deliver_attempt</th>\n",
       "      <th>2nd_deliver_attempt</th>\n",
       "      <th>buyeraddress</th>\n",
       "      <th>selleraddress</th>\n",
       "      <th>sla</th>\n",
       "      <th>num_days1</th>\n",
       "      <th>num_days2</th>\n",
       "      <th>is_late</th>\n",
       "    </tr>\n",
       "  </thead>\n",
       "  <tbody>\n",
       "    <tr>\n",
       "      <th>7</th>\n",
       "      <td>2224695304</td>\n",
       "      <td>18323</td>\n",
       "      <td>18331</td>\n",
       "      <td>0</td>\n",
       "      <td>0</td>\n",
       "      <td>0</td>\n",
       "      <td>3</td>\n",
       "      <td>7</td>\n",
       "      <td>-15712</td>\n",
       "      <td>1</td>\n",
       "    </tr>\n",
       "    <tr>\n",
       "      <th>19</th>\n",
       "      <td>2227790841</td>\n",
       "      <td>18323</td>\n",
       "      <td>18331</td>\n",
       "      <td>18339</td>\n",
       "      <td>3</td>\n",
       "      <td>0</td>\n",
       "      <td>7</td>\n",
       "      <td>7</td>\n",
       "      <td>7</td>\n",
       "      <td>1</td>\n",
       "    </tr>\n",
       "    <tr>\n",
       "      <th>21</th>\n",
       "      <td>2227816770</td>\n",
       "      <td>18323</td>\n",
       "      <td>18327</td>\n",
       "      <td>18328</td>\n",
       "      <td>0</td>\n",
       "      <td>0</td>\n",
       "      <td>3</td>\n",
       "      <td>4</td>\n",
       "      <td>1</td>\n",
       "      <td>1</td>\n",
       "    </tr>\n",
       "    <tr>\n",
       "      <th>22</th>\n",
       "      <td>2227817800</td>\n",
       "      <td>18323</td>\n",
       "      <td>18332</td>\n",
       "      <td>0</td>\n",
       "      <td>2</td>\n",
       "      <td>0</td>\n",
       "      <td>7</td>\n",
       "      <td>8</td>\n",
       "      <td>-15713</td>\n",
       "      <td>1</td>\n",
       "    </tr>\n",
       "    <tr>\n",
       "      <th>24</th>\n",
       "      <td>2227831996</td>\n",
       "      <td>18323</td>\n",
       "      <td>18327</td>\n",
       "      <td>18331</td>\n",
       "      <td>0</td>\n",
       "      <td>0</td>\n",
       "      <td>3</td>\n",
       "      <td>4</td>\n",
       "      <td>3</td>\n",
       "      <td>1</td>\n",
       "    </tr>\n",
       "    <tr>\n",
       "      <th>27</th>\n",
       "      <td>2227846339</td>\n",
       "      <td>18323</td>\n",
       "      <td>18332</td>\n",
       "      <td>0</td>\n",
       "      <td>2</td>\n",
       "      <td>0</td>\n",
       "      <td>7</td>\n",
       "      <td>8</td>\n",
       "      <td>-15713</td>\n",
       "      <td>1</td>\n",
       "    </tr>\n",
       "    <tr>\n",
       "      <th>29</th>\n",
       "      <td>2227849732</td>\n",
       "      <td>18323</td>\n",
       "      <td>18330</td>\n",
       "      <td>0</td>\n",
       "      <td>0</td>\n",
       "      <td>0</td>\n",
       "      <td>3</td>\n",
       "      <td>6</td>\n",
       "      <td>-15711</td>\n",
       "      <td>1</td>\n",
       "    </tr>\n",
       "    <tr>\n",
       "      <th>38</th>\n",
       "      <td>2227878093</td>\n",
       "      <td>18323</td>\n",
       "      <td>18327</td>\n",
       "      <td>0</td>\n",
       "      <td>0</td>\n",
       "      <td>0</td>\n",
       "      <td>3</td>\n",
       "      <td>4</td>\n",
       "      <td>-15709</td>\n",
       "      <td>1</td>\n",
       "    </tr>\n",
       "    <tr>\n",
       "      <th>52</th>\n",
       "      <td>2227970321</td>\n",
       "      <td>18323</td>\n",
       "      <td>18327</td>\n",
       "      <td>0</td>\n",
       "      <td>0</td>\n",
       "      <td>0</td>\n",
       "      <td>3</td>\n",
       "      <td>4</td>\n",
       "      <td>-15709</td>\n",
       "      <td>1</td>\n",
       "    </tr>\n",
       "    <tr>\n",
       "      <th>60</th>\n",
       "      <td>2228040329</td>\n",
       "      <td>18323</td>\n",
       "      <td>18332</td>\n",
       "      <td>0</td>\n",
       "      <td>1</td>\n",
       "      <td>0</td>\n",
       "      <td>5</td>\n",
       "      <td>8</td>\n",
       "      <td>-15713</td>\n",
       "      <td>1</td>\n",
       "    </tr>\n",
       "  </tbody>\n",
       "</table>\n",
       "</div>"
      ],
      "text/plain": [
       "       orderid   pick  1st_deliver_attempt  2nd_deliver_attempt  buyeraddress  \\\n",
       "7   2224695304  18323                18331                    0             0   \n",
       "19  2227790841  18323                18331                18339             3   \n",
       "21  2227816770  18323                18327                18328             0   \n",
       "22  2227817800  18323                18332                    0             2   \n",
       "24  2227831996  18323                18327                18331             0   \n",
       "27  2227846339  18323                18332                    0             2   \n",
       "29  2227849732  18323                18330                    0             0   \n",
       "38  2227878093  18323                18327                    0             0   \n",
       "52  2227970321  18323                18327                    0             0   \n",
       "60  2228040329  18323                18332                    0             1   \n",
       "\n",
       "    selleraddress  sla  num_days1  num_days2  is_late  \n",
       "7               0    3          7     -15712        1  \n",
       "19              0    7          7          7        1  \n",
       "21              0    3          4          1        1  \n",
       "22              0    7          8     -15713        1  \n",
       "24              0    3          4          3        1  \n",
       "27              0    7          8     -15713        1  \n",
       "29              0    3          6     -15711        1  \n",
       "38              0    3          4     -15709        1  \n",
       "52              0    3          4     -15709        1  \n",
       "60              0    5          8     -15713        1  "
      ]
     },
     "execution_count": 22,
     "metadata": {},
     "output_type": "execute_result"
    }
   ],
   "source": [
    "d[d.is_late != 0].head(10)"
   ]
  },
  {
   "cell_type": "code",
   "execution_count": 23,
   "metadata": {},
   "outputs": [],
   "source": [
    "result = d[[\"orderid\", \"is_late\"]]"
   ]
  },
  {
   "cell_type": "code",
   "execution_count": 24,
   "metadata": {},
   "outputs": [
    {
     "data": {
      "text/plain": [
       "762422"
      ]
     },
     "execution_count": 24,
     "metadata": {},
     "output_type": "execute_result"
    }
   ],
   "source": [
    "len(result[result.is_late != 0])"
   ]
  },
  {
   "cell_type": "code",
   "execution_count": 25,
   "metadata": {},
   "outputs": [],
   "source": [
    "result.to_csv(result_path, index=False)"
   ]
  },
  {
   "cell_type": "code",
   "execution_count": null,
   "metadata": {},
   "outputs": [],
   "source": []
  }
 ],
 "metadata": {
  "kernelspec": {
   "display_name": "Python 3.8.1 64-bit ('tuan': conda)",
   "language": "python",
   "name": "python38164bittuanconda0d1158ff6a3f4103ab371d8d1b87e888"
  },
  "language_info": {
   "codemirror_mode": {
    "name": "ipython",
    "version": 3
   },
   "file_extension": ".py",
   "mimetype": "text/x-python",
   "name": "python",
   "nbconvert_exporter": "python",
   "pygments_lexer": "ipython3",
   "version": "3.7.7"
  }
 },
 "nbformat": 4,
 "nbformat_minor": 2
}
